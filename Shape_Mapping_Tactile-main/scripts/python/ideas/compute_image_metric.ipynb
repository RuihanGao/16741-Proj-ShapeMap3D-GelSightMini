{
 "cells": [
  {
   "cell_type": "markdown",
   "metadata": {},
   "source": [
    "# Load the ground truth capture and the simualted tactile output. Compute quantitative metric for evaluation"
   ]
  },
  {
   "cell_type": "code",
   "execution_count": 25,
   "metadata": {},
   "outputs": [],
   "source": [
    "import numpy as np\n",
    "import cv2\n",
    "import os\n",
    "import sys\n",
    "import os.path as osp\n",
    "import matplotlib.pyplot as plt\n",
    "import skimage\n",
    "from skimage.metrics import peak_signal_noise_ratio as psnr\n",
    "from skimage.metrics import structural_similarity as ssim"
   ]
  },
  {
   "cell_type": "code",
   "execution_count": 29,
   "metadata": {},
   "outputs": [
    {
     "name": "stdout",
     "output_type": "stream",
     "text": [
      "shape_mapping_root_path: /home/ruihan/Documents/16741_proj/Shape_Mapping_Tactile-main\n",
      "logs_dir: /home/ruihan/Documents/16741_proj/Shape_Mapping_Tactile-main/logs/20231204\n"
     ]
    },
    {
     "data": {
      "text/plain": [
       "True"
      ]
     },
     "execution_count": 29,
     "metadata": {},
     "output_type": "execute_result"
    }
   ],
   "source": [
    "shape_mapping_root_path = osp.normpath(osp.join(os.path.abspath(''), '..', '..', '..'))\n",
    "print(f\"shape_mapping_root_path: {shape_mapping_root_path}\")\n",
    "logs_dir = osp.join(shape_mapping_root_path, 'logs', '20231204')\n",
    "print(f\"logs_dir: {logs_dir}\")\n",
    "\n",
    "# Load the ground truth capture\n",
    "gt_frame = cv2.imread(osp.join(logs_dir, 'GelSight_mini_gt.png'))\n",
    "# resize gt_frame to 240x320\n",
    "gt_frame = cv2.resize(gt_frame, (320, 240))\n",
    "cv2.imwrite(osp.join(logs_dir, 'GelSight_mini_gt.png'), gt_frame)"
   ]
  },
  {
   "cell_type": "code",
   "execution_count": 28,
   "metadata": {},
   "outputs": [
    {
     "name": "stdout",
     "output_type": "stream",
     "text": [
      "Load sim_frame from V0_original_implementation\n",
      "reshape sim_frame from (480, 640, 3) to (240, 320, 3)\n",
      "PSNR: 15.388179089951171, SSIM: 0.8110766240168165, L2: 100622.13078642293\n",
      "Load sim_frame from V1_update_calibration\n",
      "PSNR: 19.31299402114289, SSIM: 0.8174710511683516, L2: 78821.65025549769\n",
      "Load sim_frame from V2_update_gelmap\n",
      "PSNR: 18.73692214997246, SSIM: 0.8184901726986608, L2: 71523.68251844979\n"
     ]
    }
   ],
   "source": [
    "def compute_metrics(gt_frame, sim_frame):\n",
    "    # compute the PSNR metric between the two frames using skimage metrics\n",
    "    if sim_frame.shape[0] != gt_frame.shape[0] or sim_frame.shape[1] != gt_frame.shape[1]:\n",
    "        print(f\"reshape sim_frame from {sim_frame.shape} to {gt_frame.shape}\")\n",
    "        sim_frame = cv2.resize(sim_frame, (gt_frame.shape[1], gt_frame.shape[0]), interpolation=cv2.INTER_NEAREST)\n",
    "\n",
    "    # Compute PSNR\n",
    "    psnr_score = psnr(gt_frame, sim_frame)\n",
    "    # Compute SSIM\n",
    "    ssim_score = ssim(gt_frame, sim_frame, multichannel=True, channel_axis=2)\n",
    "    # Compute L2 distance\n",
    "    l2_dist = np.linalg.norm(gt_frame - sim_frame)\n",
    "    return psnr_score, ssim_score, l2_dist\n",
    "\n",
    "logs_folders = os.listdir(logs_dir)\n",
    "for logs_folder in sorted(logs_folders):\n",
    "    # check if it is a directory\n",
    "    if not osp.isdir(osp.join(logs_dir, logs_folder)):\n",
    "        continue\n",
    "    print(f\"Load sim_frame from {logs_folder}\")\n",
    "    sim_frame = cv2.imread(osp.join(logs_dir, logs_folder, '0.jpg'))\n",
    "    psnr_score, ssim_score, l2_dist = compute_metrics(gt_frame, sim_frame)\n",
    "    print(f\"PSNR: {psnr_score}, SSIM: {ssim_score}, L2: {l2_dist}\")\n",
    "\n",
    "\n",
    "\n",
    "# shape_mapping_root_path: /home/ruihan/Documents/16741_proj/Shape_Mapping_Tactile-main\n",
    "# logs_dir: /home/ruihan/Documents/16741_proj/Shape_Mapping_Tactile-main/logs/20231204\n",
    "# Load sim_frame from V0_original_implementation\n",
    "# reshape sim_frame from (480, 640, 3) to (240, 320, 3)\n",
    "# PSNR: 14.668302400737744, SSIM: 0.7779468613037676, L2: 100516.70523350833\n",
    "# Load sim_frame from V1_update_calibration\n",
    "# PSNR: 22.852535516293656, SSIM: 0.8241147010663212, L2: 64597.283998632636\n",
    "# Load sim_frame from V2_update_gelmap\n",
    "# PSNR: 22.14913315860094, SSIM: 0.8305957758851643, L2: 49339.904985721245\n"
   ]
  },
  {
   "cell_type": "code",
   "execution_count": null,
   "metadata": {},
   "outputs": [],
   "source": []
  }
 ],
 "metadata": {
  "kernelspec": {
   "display_name": "Python 3",
   "language": "python",
   "name": "python3"
  },
  "language_info": {
   "codemirror_mode": {
    "name": "ipython",
    "version": 3
   },
   "file_extension": ".py",
   "mimetype": "text/x-python",
   "name": "python",
   "nbconvert_exporter": "python",
   "pygments_lexer": "ipython3",
   "version": "3.8.10"
  }
 },
 "nbformat": 4,
 "nbformat_minor": 2
}
